{
 "cells": [
  {
   "cell_type": "code",
   "execution_count": null,
   "metadata": {},
   "outputs": [],
   "source": [
    "import datetime\n",
    "\n",
    "import matplotlib.pyplot as plt\n",
    "import numpy as np\n",
    "import pandas as pd\n",
    "\n",
    "import pecanpy"
   ]
  },
  {
   "cell_type": "code",
   "execution_count": null,
   "metadata": {},
   "outputs": [],
   "source": [
    "%matplotlib inline\n",
    "plt.style.use(\"ggplot\")"
   ]
  },
  {
   "cell_type": "code",
   "execution_count": null,
   "metadata": {},
   "outputs": [],
   "source": [
    "pd.__version__"
   ]
  },
  {
   "cell_type": "code",
   "execution_count": null,
   "metadata": {},
   "outputs": [],
   "source": [
    "# define user credentials\n",
    "USER_NAME = ???\n",
    "PASSWORD = ???\n",
    "\n",
    "# define db server params\n",
    "SCHEMA = ???\n",
    "HOST = ???\n",
    "PORT = ???\n",
    "DB = ???\n",
    "\n",
    "# create the engine that connects to the database...\n",
    "engine = pecanpy.create_engine(USER_NAME, PASSWORD, HOST, PORT, DB)"
   ]
  },
  {
   "cell_type": "code",
   "execution_count": null,
   "metadata": {},
   "outputs": [],
   "source": [
    "with engine.connect() as con:\n",
    "    metadata_df = pecanpy.read_metadata_table(con, schema=SCHEMA)"
   ]
  },
  {
   "cell_type": "code",
   "execution_count": null,
   "metadata": {},
   "outputs": [],
   "source": [
    "metadata_df.head()"
   ]
  },
  {
   "cell_type": "code",
   "execution_count": null,
   "metadata": {},
   "outputs": [],
   "source": [
    "time = datetime.datetime.now()\n",
    "seed = time.hour * 10000 + time.minute * 100 + time.second\n",
    "prng = np.random.RandomState(seed)\n",
    "with_egauge_data = metadata_df[metadata_df.egauge_min_time.notnull()]\n",
    "random_household = with_egauge_data.sample(n=1, random_state=prng)"
   ]
  },
  {
   "cell_type": "code",
   "execution_count": null,
   "metadata": {},
   "outputs": [],
   "source": [
    "# how much available data possibly exists?\n",
    "start_time = random_household.iloc[0].egauge_min_time\n",
    "end_time = random_household.iloc[0].egauge_max_time\n",
    "time_delta = end_time - start_time"
   ]
  },
  {
   "cell_type": "code",
   "execution_count": null,
   "metadata": {},
   "outputs": [],
   "source": [
    "time_delta"
   ]
  },
  {
   "cell_type": "code",
   "execution_count": null,
   "metadata": {},
   "outputs": [],
   "source": [
    "with engine.connect() as con:\n",
    "\n",
    "    # extract the required parameters\n",
    "    dataid = random_household.iloc[0].name\n",
    "    start_time = random_household.iloc[0].egauge_min_time\n",
    "    end_time = random_household.iloc[0].egauge_max_time\n",
    "\n",
    "    # pull down data for different aggregations\n",
    "    minutes_df = pecanpy.read_electricity_egauge_query(con, SCHEMA, dataid, start_time, end_time, \"all\", 'T')\n",
    "    qtr_hour_df = pecanpy.read_electricity_egauge_query(con, SCHEMA, dataid, start_time, end_time, \"all\", \"15T\")\n",
    "    hours_df = pecanpy.read_electricity_egauge_query(con, SCHEMA, dataid, start_time, end_time, \"all\", 'H')"
   ]
  },
  {
   "cell_type": "markdown",
   "metadata": {},
   "source": [
    "## Minutes data"
   ]
  },
  {
   "cell_type": "code",
   "execution_count": null,
   "metadata": {},
   "outputs": [],
   "source": [
    "minutes_df.shape"
   ]
  },
  {
   "cell_type": "code",
   "execution_count": null,
   "metadata": {},
   "outputs": [],
   "source": [
    "minutes_df.head()"
   ]
  },
  {
   "cell_type": "code",
   "execution_count": null,
   "metadata": {},
   "outputs": [],
   "source": [
    "minutes_df.tail()"
   ]
  },
  {
   "cell_type": "code",
   "execution_count": null,
   "metadata": {},
   "outputs": [],
   "source": [
    "# if gen is not null, then household is a prosumer!\n",
    "minutes_df[[\"grid\", \"use\", \"gen\"]].head()"
   ]
  },
  {
   "cell_type": "code",
   "execution_count": null,
   "metadata": {},
   "outputs": [],
   "source": [
    "fig, ax = plt.subplots(1, 1, figsize=(10, 6))\n",
    "\n",
    "# plot total daily electricity usage\n",
    "minutes_df.use.resample(\"D\").sum().plot(ax=ax, label=\"use\")\n",
    "ax.set_title(\"Electricity use for household {}\".format(dataid))\n",
    "ax.legend()\n",
    "plt.show()"
   ]
  },
  {
   "cell_type": "code",
   "execution_count": null,
   "metadata": {},
   "outputs": [],
   "source": [
    "fig, ax = plt.subplots(1, 1, figsize=(10, 6))\n",
    "hourly_load_curves = (minutes_df.resample(\"H\")\n",
    "                                .sum()\n",
    "                                .groupby(lambda timestamp: timestamp.hour)\n",
    "                                .mean())\n",
    "hourly_load_curves.use.plot(ax=ax);"
   ]
  },
  {
   "cell_type": "markdown",
   "metadata": {},
   "source": [
    "## 15-minute data"
   ]
  },
  {
   "cell_type": "code",
   "execution_count": null,
   "metadata": {},
   "outputs": [],
   "source": [
    "qtr_hour_df.head()"
   ]
  },
  {
   "cell_type": "code",
   "execution_count": null,
   "metadata": {},
   "outputs": [],
   "source": [
    "qtr_hour_df.tail()"
   ]
  },
  {
   "cell_type": "code",
   "execution_count": null,
   "metadata": {},
   "outputs": [],
   "source": [
    "# can recover the 15-minute data ay aggregating the minutes data!\n",
    "minutes_df.resample(\"15T\").mean().tail()"
   ]
  },
  {
   "cell_type": "markdown",
   "metadata": {},
   "source": [
    "## Hours data"
   ]
  },
  {
   "cell_type": "code",
   "execution_count": null,
   "metadata": {},
   "outputs": [],
   "source": [
    "hours_df.head()"
   ]
  },
  {
   "cell_type": "code",
   "execution_count": null,
   "metadata": {},
   "outputs": [],
   "source": [
    "hours_df.tail()"
   ]
  },
  {
   "cell_type": "code",
   "execution_count": null,
   "metadata": {},
   "outputs": [],
   "source": [
    "fig, ax = plt.subplots(1, 1, figsize=(10,6))\n",
    "ax.set_xlabel(\"Hour\")\n",
    "ax.set_ylabel(\"Electricity usage\")\n",
    "ax.set_title(\"Hourly average usage for household {}\".format(dataid))\n",
    "hours_df.use.groupby(lambda idx: idx.hour).mean().plot(ax=ax);\n"
   ]
  },
  {
   "cell_type": "code",
   "execution_count": null,
   "metadata": {},
   "outputs": [],
   "source": []
  }
 ],
 "metadata": {
  "kernelspec": {
   "display_name": "Python 3",
   "language": "python",
   "name": "python3"
  },
  "language_info": {
   "codemirror_mode": {
    "name": "ipython",
    "version": 3
   },
   "file_extension": ".py",
   "mimetype": "text/x-python",
   "name": "python",
   "nbconvert_exporter": "python",
   "pygments_lexer": "ipython3",
   "version": "3.6.3"
  }
 },
 "nbformat": 4,
 "nbformat_minor": 2
}
