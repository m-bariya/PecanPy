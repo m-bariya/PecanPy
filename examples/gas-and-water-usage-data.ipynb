{
 "cells": [
  {
   "cell_type": "code",
   "execution_count": null,
   "metadata": {},
   "outputs": [],
   "source": [
    "import datetime\n",
    "\n",
    "import matplotlib.pyplot as plt\n",
    "import numpy as np\n",
    "import pandas as pd\n",
    "\n",
    "import pecanpy"
   ]
  },
  {
   "cell_type": "code",
   "execution_count": null,
   "metadata": {},
   "outputs": [],
   "source": [
    "%matplotlib inline\n",
    "plt.style.use(\"ggplot\")"
   ]
  },
  {
   "cell_type": "code",
   "execution_count": null,
   "metadata": {},
   "outputs": [],
   "source": [
    "pd.__version__"
   ]
  },
  {
   "cell_type": "code",
   "execution_count": null,
   "metadata": {},
   "outputs": [],
   "source": [
    "# define user credentials\n",
    "USER_NAME = ???\n",
    "PASSWORD = ???\n",
    "\n",
    "# define db server params\n",
    "SCHEMA = ???\n",
    "HOST = ???\n",
    "PORT = ???\n",
    "DB = ???\n",
    "\n",
    "# create the engine that connects to the database...\n",
    "engine = pecanpy.create_engine(USER_NAME, PASSWORD, HOST, PORT, DB)"
   ]
  },
  {
   "cell_type": "code",
   "execution_count": null,
   "metadata": {},
   "outputs": [],
   "source": [
    "with engine.connect() as con:\n",
    "    metadata_df = pecanpy.read_metadata_table(con, schema=SCHEMA)"
   ]
  },
  {
   "cell_type": "code",
   "execution_count": null,
   "metadata": {},
   "outputs": [],
   "source": [
    "metadata_df.head()"
   ]
  },
  {
   "cell_type": "markdown",
   "metadata": {},
   "source": [
    "# Gas ERT data"
   ]
  },
  {
   "cell_type": "code",
   "execution_count": null,
   "metadata": {},
   "outputs": [],
   "source": [
    "time = datetime.datetime.now()\n",
    "seed = time.hour * 10000 + time.minute * 100 + time.second\n",
    "prng = np.random.RandomState(seed)\n",
    "with_gas_ert_data = metadata_df[metadata_df.gas_ert_min_time.notnull()]\n",
    "random_household = with_gas_ert_data.sample(n=1, random_state=prng)"
   ]
  },
  {
   "cell_type": "code",
   "execution_count": null,
   "metadata": {},
   "outputs": [],
   "source": [
    "# how much available data possibly exists?\n",
    "start_time = random_household.iloc[0].gas_ert_min_time\n",
    "end_time = random_household.iloc[0].gas_ert_max_time\n",
    "time_delta = end_time - start_time"
   ]
  },
  {
   "cell_type": "code",
   "execution_count": null,
   "metadata": {},
   "outputs": [],
   "source": [
    "time_delta"
   ]
  },
  {
   "cell_type": "code",
   "execution_count": null,
   "metadata": {},
   "outputs": [],
   "source": [
    "with engine.connect() as con:\n",
    "    dataid = random_household.iloc[0].name\n",
    "    start_time = random_household.iloc[0].gas_ert_min_time\n",
    "    end_time = random_household.iloc[0].gas_ert_max_time\n",
    "    gas_ert_data = pecanpy.read_gas_ert_query(con, SCHEMA, dataid, start_time, end_time)"
   ]
  },
  {
   "cell_type": "code",
   "execution_count": null,
   "metadata": {},
   "outputs": [],
   "source": [
    "gas_ert_data.head()"
   ]
  },
  {
   "cell_type": "code",
   "execution_count": null,
   "metadata": {},
   "outputs": [],
   "source": [
    "gas_ert_data.plot();"
   ]
  },
  {
   "cell_type": "markdown",
   "metadata": {},
   "source": [
    "# Water ERT data"
   ]
  },
  {
   "cell_type": "code",
   "execution_count": null,
   "metadata": {},
   "outputs": [],
   "source": [
    "time = datetime.datetime.now()\n",
    "seed = time.hour * 10000 + time.minute * 100 + time.second\n",
    "prng = np.random.RandomState(seed)\n",
    "with_water_ert_data = metadata_df[metadata_df.water_ert_min_time.notnull()]\n",
    "random_household = with_water_ert_data.sample(n=1, random_state=prng)"
   ]
  },
  {
   "cell_type": "code",
   "execution_count": null,
   "metadata": {},
   "outputs": [],
   "source": [
    "# how much available data possibly exists?\n",
    "start_time = random_household.iloc[0].gas_ert_min_time\n",
    "end_time = random_household.iloc[0].gas_ert_max_time\n",
    "time_delta = end_time - start_time"
   ]
  },
  {
   "cell_type": "code",
   "execution_count": null,
   "metadata": {},
   "outputs": [],
   "source": [
    "time_delta"
   ]
  },
  {
   "cell_type": "code",
   "execution_count": null,
   "metadata": {},
   "outputs": [],
   "source": [
    "with engine.connect() as con:\n",
    "    dataid = random_household.iloc[0].name\n",
    "    start_time = random_household.iloc[0].gas_ert_min_time\n",
    "    end_time = random_household.iloc[0].gas_ert_max_time\n",
    "    water_ert_data = pecanpy.read_water_ert_query(con, SCHEMA, dataid, start_time, end_time)"
   ]
  },
  {
   "cell_type": "code",
   "execution_count": null,
   "metadata": {},
   "outputs": [],
   "source": [
    "water_ert_data.head()"
   ]
  },
  {
   "cell_type": "code",
   "execution_count": null,
   "metadata": {},
   "outputs": [],
   "source": [
    "water_ert_data.plot();"
   ]
  },
  {
   "cell_type": "markdown",
   "metadata": {},
   "source": [
    "# Water capstone data"
   ]
  },
  {
   "cell_type": "code",
   "execution_count": null,
   "metadata": {},
   "outputs": [],
   "source": [
    "time = datetime.datetime.now()\n",
    "seed = time.hour * 10000 + time.minute * 100 + time.second\n",
    "prng = np.random.RandomState(seed)\n",
    "with_gas_ert_data = metadata_df[metadata_df.prog.notnull()]\n",
    "random_household = with_gas_ert_data.sample(n=1, random_state=prng)"
   ]
  }
 ],
 "metadata": {
  "kernelspec": {
   "display_name": "Python 3",
   "language": "python",
   "name": "python3"
  },
  "language_info": {
   "codemirror_mode": {
    "name": "ipython",
    "version": 3
   },
   "file_extension": ".py",
   "mimetype": "text/x-python",
   "name": "python",
   "nbconvert_exporter": "python",
   "pygments_lexer": "ipython3",
   "version": "3.6.3"
  }
 },
 "nbformat": 4,
 "nbformat_minor": 2
}
