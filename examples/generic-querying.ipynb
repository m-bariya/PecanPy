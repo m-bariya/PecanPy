{
 "cells": [
  {
   "cell_type": "code",
   "execution_count": 1,
   "metadata": {},
   "outputs": [
    {
     "ename": "ModuleNotFoundError",
     "evalue": "No module named 'pecanpy'",
     "output_type": "error",
     "traceback": [
      "\u001b[0;31m---------------------------------------------------------------------------\u001b[0m",
      "\u001b[0;31mModuleNotFoundError\u001b[0m                       Traceback (most recent call last)",
      "\u001b[0;32m<ipython-input-1-b189b39e9a26>\u001b[0m in \u001b[0;36m<module>\u001b[0;34m()\u001b[0m\n\u001b[1;32m      5\u001b[0m \u001b[0;32mimport\u001b[0m \u001b[0mpandas\u001b[0m \u001b[0;32mas\u001b[0m \u001b[0mpd\u001b[0m\u001b[0;34m\u001b[0m\u001b[0m\n\u001b[1;32m      6\u001b[0m \u001b[0;34m\u001b[0m\u001b[0m\n\u001b[0;32m----> 7\u001b[0;31m \u001b[0;32mimport\u001b[0m \u001b[0mpecanpy\u001b[0m\u001b[0;34m\u001b[0m\u001b[0m\n\u001b[0m",
      "\u001b[0;31mModuleNotFoundError\u001b[0m: No module named 'pecanpy'"
     ]
    }
   ],
   "source": [
    "import datetime as dat\n",
    "import matplotlib.pyplot as plt\n",
    "import numpy as np\n",
    "import pandas as pd\n",
    "import os\n",
    "\n",
    "import pecanpy"
   ]
  },
  {
   "cell_type": "code",
   "execution_count": null,
   "metadata": {
    "collapsed": true
   },
   "outputs": [],
   "source": [
    "# define user credentials\n",
    "USER_NAME = ???\n",
    "PASSWORD = ???\n",
    "\n",
    "# define db server params\n",
    "SCHEMA = ???\n",
    "HOST = ???\n",
    "PORT = ???\n",
    "DB = ???\n",
    "\n",
    "# create the engine that connects to the database...\n",
    "engine = pecanpy.create_engine(USER_NAME, PASSWORD, HOST, PORT, DB)"
   ]
  },
  {
   "cell_type": "code",
   "execution_count": null,
   "metadata": {
    "collapsed": true
   },
   "outputs": [],
   "source": [
    "# first get a few dataids for households that should have June & December 2016 data\n",
    "SQLparams = [dat.datetime(2016,6,1,0,0), dat.datetime(2016,12,31,23,59)]\n",
    "dataIdsSQL = os.getcwd()+os.sep+'generic-querying.sql'\n",
    "IDs = pecanpy.read_sql_query(engine,SQLfile = dataIdsSQL,params=SQLparams).dataid.tolist()"
   ]
  },
  {
   "cell_type": "code",
   "execution_count": null,
   "metadata": {
    "collapsed": true
   },
   "outputs": [],
   "source": [
    "# now get their hourly data for June & December 2016\n",
    "SQLparams = [dat.datetime(2016,6,1,0,0), dat.datetime(2016,6,30,23,59),dat.datetime(2016,12,1,0,0), dat.datetime(2016,12,31,23,59)]\n",
    "SQLparams.extend(IDs)\n",
    "dataSQL = \"SELECT dataid, CAST(localhour AS date) AS datestamp, CAST(EXTRACT(month FROM localhour) AS int) AS month, EXTRACT(hour FROM localhour) AS HR, use FROM commercial.electricity_egauge_hours WHERE ((localhour BETWEEN %s AND %s) or (localhour BETWEEN %s AND %s)) AND dataid IN (\"+ ('%s,'*len(IDs))[:-1]+\");\"\n",
    "hourly = pecanpy.read_sql_query(engine,SQLstr = dataSQL,params = SQLparams,index_col = ['dataid','monthly','hr'],parse_dates=['datestamp'])"
   ]
  },
  {
   "cell_type": "code",
   "execution_count": null,
   "metadata": {
    "collapsed": true
   },
   "outputs": [],
   "source": [
    "# perform \"analysis\"\n",
    "# get the hourly average\n",
    "havg = hourly.use.groupby(level=[0,1,2]).agg(['mean'])\n",
    "\n",
    "# now plot the hourly curves\n",
    "(fh,axpl) = plt.subplots(1,2)\n",
    "fh.suptitle('Intraday Hourly Power Curves')\n",
    "legs = []\n",
    "for dataid in havg.index.levels[0]:\n",
    "    try:\n",
    "        havg.loc[dataid, 6].plot(ax=axpl[0],kind='line') # June\n",
    "        havg.loc[dataid,12].plot(ax=axpl[1],kind='line') # December\n",
    "    except TypeError:\n",
    "        pass # not all dataids are guaranteed to have June & Dec   \n",
    "    legs.append('%d'%dataid)\n",
    "\n",
    "plt.sca(axpl[0])    \n",
    "plt.xlabel(\"Hour Beginning\")\n",
    "plt.ylabel(\"Average Real Power (kW)\")\n",
    "plt.xticks([r for r in range(24) if r%2==0])\n",
    "plt.grid()\n",
    "plt.legend(legs)\n",
    "plt.title('%s - %s'%(SQLparams[0].date(),SQLparams[1].date()))\n",
    "\n",
    "plt.sca(axpl[1])    \n",
    "plt.xlabel(\"Hour Beginning\")\n",
    "plt.xticks([r for r in range(24) if r%2==0])\n",
    "plt.grid()\n",
    "plt.legend(legs)\n",
    "plt.title('%s - %s'%(SQLparams[2].date(),SQLparams[3].date()))"
   ]
  }
 ],
 "metadata": {
  "kernelspec": {
   "display_name": "Python 3",
   "language": "python",
   "name": "python3"
  },
  "language_info": {
   "codemirror_mode": {
    "name": "ipython",
    "version": 3
   },
   "file_extension": ".py",
   "mimetype": "text/x-python",
   "name": "python",
   "nbconvert_exporter": "python",
   "pygments_lexer": "ipython3",
   "version": "3.6.4"
  }
 },
 "nbformat": 4,
 "nbformat_minor": 2
}
